{
 "cells": [
  {
   "cell_type": "markdown",
   "metadata": {},
   "source": [
    "<center>\n",
    "    <img src=\"https://cf-courses-data.s3.us.cloud-object-storage.appdomain.cloud/IBMDeveloperSkillsNetwork-DS0105EN-SkillsNetwork/labs/Module2/images/SN_web_lightmode.png\" width=\"300\" alt=\"cognitiveclass.ai logo\">\n",
    "</center>\n"
   ]
  },
  {
   "cell_type": "markdown",
   "metadata": {},
   "source": [
    "#### Add your code below following the instructions given in the course\n"
   ]
  },
  {
   "cell_type": "markdown",
   "metadata": {},
   "source": [
    "# Practice 2: Jupyter_Notebook"
   ]
  },
  {
   "cell_type": "markdown",
   "metadata": {},
   "source": [
    "Practice 3: Add your code below following the instructions given in the course"
   ]
  },
  {
   "cell_type": "markdown",
   "metadata": {},
   "source": [
    "* Practice 4: Data Science Languages: ___Python, R, SQL___. Others are ___Julia, C++, Java___ and so on."
   ]
  },
  {
   "cell_type": "markdown",
   "metadata": {},
   "source": [
    "* Practice 5: Data Science packages: ___Numpy, Pandas, Scipy, tenserflow___ in ___python___; ___ceral, GGplot___ in ___R___."
   ]
  },
  {
   "cell_type": "markdown",
   "metadata": {},
   "source": [
    "+ Practice 6: Data Science Tools: As below\n",
    "\n",
    "No. | Tools \n",
    "-|-\n",
    "1 | Jupyter Notebook\n",
    "2 | Jupyter Lab\n",
    "3 | Apache Sparks\n",
    "4 | Pycharm\n",
    "5 | Hadoop\n",
    "6 | Rstudio\n",
    "7 | Anaconda\n",
    "8 | Spyder\n",
    "9 | Origin\n",
    "10 | MatLab\n",
    "11 | Mathematics"
   ]
  },
  {
   "cell_type": "markdown",
   "metadata": {},
   "source": [
    "Practice 7: Introduce +, -, *, // and %\n",
    "* 2+3=5\n",
    "\n",
    "* 2-3=-1\n",
    "\n",
    "+ 2*3=6\n",
    "\n",
    "* 2//3=0\n",
    "\n",
    "+ 2%3=2"
   ]
  },
  {
   "cell_type": "code",
   "execution_count": 5,
   "metadata": {
    "tags": []
   },
   "outputs": [
    {
     "name": "stdout",
     "output_type": "stream",
     "text": [
      "the value of 2 x 3 = 6\n",
      "the value of 2 + 3 = 5\n"
     ]
    }
   ],
   "source": [
    "# Practice 8: \n",
    "def multi(a, b):\n",
    "    return a * b\n",
    "def add(a, b):\n",
    "    return a + b\n",
    "a = 2\n",
    "b = 3\n",
    "print(f\"the value of {a} x {b} = {multi(a, b)}\")\n",
    "print(f\"the value of {a} + {b} = {add(a, b)}\")"
   ]
  },
  {
   "cell_type": "code",
   "execution_count": 7,
   "metadata": {
    "tags": []
   },
   "outputs": [
    {
     "name": "stdout",
     "output_type": "stream",
     "text": [
      "the result of 244 minute is 4 hours and 4 minutes.\n"
     ]
    }
   ],
   "source": [
    "# practice 9\n",
    "def turn_time(minute):\n",
    "    \"\"\"\n",
    "    turn min to h\n",
    "    \"\"\"\n",
    "    return minute // 60, minute % 60\n",
    "a = 244\n",
    "hour, minute = turn_time(a)\n",
    "print(f\"the result of {a} minute is {hour} hours and {minute} minutes.\")"
   ]
  },
  {
   "cell_type": "markdown",
   "metadata": {},
   "source": [
    "# Practice 10: My aim\n",
    "My aim is to complete the courses in 1 month."
   ]
  },
  {
   "cell_type": "markdown",
   "metadata": {},
   "source": [
    "# Practice 11: My name\n",
    "My name is Cao Ke."
   ]
  },
  {
   "cell_type": "code",
   "execution_count": null,
   "metadata": {},
   "outputs": [],
   "source": []
  }
 ],
 "metadata": {
  "kernelspec": {
   "display_name": "Python",
   "language": "python",
   "name": "conda-env-python-py"
  },
  "language_info": {
   "codemirror_mode": {
    "name": "ipython",
    "version": 3
   },
   "file_extension": ".py",
   "mimetype": "text/x-python",
   "name": "python",
   "nbconvert_exporter": "python",
   "pygments_lexer": "ipython3",
   "version": "3.7.12"
  }
 },
 "nbformat": 4,
 "nbformat_minor": 4
}
