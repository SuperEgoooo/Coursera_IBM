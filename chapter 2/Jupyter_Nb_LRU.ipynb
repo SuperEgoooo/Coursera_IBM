{
 "cells": [
  {
   "cell_type": "markdown",
   "metadata": {},
   "source": [
    "<center>\n",
    "    <img src=\"https://cf-courses-data.s3.us.cloud-object-storage.appdomain.cloud/IBMDeveloperSkillsNetwork-DS0105EN-SkillsNetwork/labs/Module2/images/SN_web_lightmode.png\" width=\"300\" alt=\"cognitiveclass.ai logo\">\n",
    "</center>\n"
   ]
  },
  {
   "cell_type": "markdown",
   "metadata": {},
   "source": [
    "#### Add your code below following the instructions given in the course\n"
   ]
  },
  {
   "cell_type": "markdown",
   "metadata": {
    "tags": []
   },
   "source": [
    "# So what should I do ? Just upload a notebook without anything ???\n",
    "OK OK, I'd like to do something funny.\n",
    "\n",
    "So... Let's talk about the **LRU**!"
   ]
  },
  {
   "cell_type": "code",
   "execution_count": 8,
   "metadata": {
    "tags": []
   },
   "outputs": [],
   "source": [
    "class _ListNode:\n",
    "    def __init__(self, key, value, last=None, next_=None):\n",
    "        self.key = key\n",
    "        self.value = value\n",
    "        self.last = last\n",
    "        self.next = next_\n",
    "\n",
    "class LRU:\n",
    "    def __init__(self, capacity):\n",
    "        self.hash = {}\n",
    "        self.capacity = capacity\n",
    "        self.head = _ListNode(-1, -1)\n",
    "        self.tail = _ListNode(-1, -1, self.head)\n",
    "        self.head.next = self.tail\n",
    "    \n",
    "    def _move_to_tail(self, node):\n",
    "        node.last.next = node.next\n",
    "        node.next.last = node.last\n",
    "        node.next = self.tail\n",
    "        node.last = self.tail.last\n",
    "        self.tail.last.next = node\n",
    "        self.tail.last = node\n",
    "        \n",
    "    def get(self, key):\n",
    "        if key in self.hash:\n",
    "            self._move_to_tail(self.hash[key])\n",
    "            return self.hash[key]\n",
    "        else:\n",
    "            return -1\n",
    "    \n",
    "    def put(self, key, value):\n",
    "        if key in self.hash:\n",
    "            self._move_to_tail(self.hash[key])\n",
    "            self.hash[key].value = value\n",
    "        else:\n",
    "            if self.capacity == len(self.hash):\n",
    "                temp = self.head.next\n",
    "                self.head.next.next.last = self.head\n",
    "                self.head.next = self.head.next.next\n",
    "                del self.hash[key]\n",
    "            self.hash[key] = _ListNode(-1, -1, self.tail.last, self.tail)\n",
    "            self.tail.last.next = self.hash[key]\n",
    "            self.tail.last = self.hash[key]"
   ]
  },
  {
   "cell_type": "markdown",
   "metadata": {},
   "source": [
    "# LRU complete!"
   ]
  }
 ],
 "metadata": {
  "kernelspec": {
   "display_name": "Python",
   "language": "python",
   "name": "conda-env-python-py"
  },
  "language_info": {
   "codemirror_mode": {
    "name": "ipython",
    "version": 3
   },
   "file_extension": ".py",
   "mimetype": "text/x-python",
   "name": "python",
   "nbconvert_exporter": "python",
   "pygments_lexer": "ipython3",
   "version": "3.7.12"
  }
 },
 "nbformat": 4,
 "nbformat_minor": 4
}
